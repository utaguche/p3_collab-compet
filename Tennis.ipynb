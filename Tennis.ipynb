{
 "cells": [
  {
   "cell_type": "markdown",
   "metadata": {},
   "source": [
    "# Collaboration and Competition\n",
    "\n",
    "---\n",
    "\n",
    "In this notebook, you will learn how to use the Unity ML-Agents environment for the third project of the [Deep Reinforcement Learning Nanodegree](https://www.udacity.com/course/deep-reinforcement-learning-nanodegree--nd893) program.\n",
    "\n",
    "### 1. Start the Environment\n",
    "\n",
    "We begin by importing the necessary packages.  If the code cell below returns an error, please revisit the project instructions to double-check that you have installed [Unity ML-Agents](https://github.com/Unity-Technologies/ml-agents/blob/master/docs/Installation.md) and [NumPy](http://www.numpy.org/)."
   ]
  },
  {
   "cell_type": "code",
   "execution_count": 1,
   "metadata": {},
   "outputs": [],
   "source": [
    "from unityagents import UnityEnvironment\n",
    "import numpy as np"
   ]
  },
  {
   "cell_type": "markdown",
   "metadata": {},
   "source": [
    "Next, we will start the environment!  **_Before running the code cell below_**, change the `file_name` parameter to match the location of the Unity environment that you downloaded.\n",
    "\n",
    "- **Mac**: `\"path/to/Tennis.app\"`\n",
    "- **Windows** (x86): `\"path/to/Tennis_Windows_x86/Tennis.exe\"`\n",
    "- **Windows** (x86_64): `\"path/to/Tennis_Windows_x86_64/Tennis.exe\"`\n",
    "- **Linux** (x86): `\"path/to/Tennis_Linux/Tennis.x86\"`\n",
    "- **Linux** (x86_64): `\"path/to/Tennis_Linux/Tennis.x86_64\"`\n",
    "- **Linux** (x86, headless): `\"path/to/Tennis_Linux_NoVis/Tennis.x86\"`\n",
    "- **Linux** (x86_64, headless): `\"path/to/Tennis_Linux_NoVis/Tennis.x86_64\"`\n",
    "\n",
    "For instance, if you are using a Mac, then you downloaded `Tennis.app`.  If this file is in the same folder as the notebook, then the line below should appear as follows:\n",
    "```\n",
    "env = UnityEnvironment(file_name=\"Tennis.app\")\n",
    "```"
   ]
  },
  {
   "cell_type": "code",
   "execution_count": 2,
   "metadata": {},
   "outputs": [
    {
     "name": "stderr",
     "output_type": "stream",
     "text": [
      "INFO:unityagents:\n",
      "'Academy' started successfully!\n",
      "Unity Academy name: Academy\n",
      "        Number of Brains: 1\n",
      "        Number of External Brains : 1\n",
      "        Lesson number : 0\n",
      "        Reset Parameters :\n",
      "\t\t\n",
      "Unity brain name: TennisBrain\n",
      "        Number of Visual Observations (per agent): 0\n",
      "        Vector Observation space type: continuous\n",
      "        Vector Observation space size (per agent): 8\n",
      "        Number of stacked Vector Observation: 3\n",
      "        Vector Action space type: continuous\n",
      "        Vector Action space size (per agent): 2\n",
      "        Vector Action descriptions: , \n"
     ]
    }
   ],
   "source": [
    "env = UnityEnvironment(file_name=\"Tennis.app\", seed = 2)"
   ]
  },
  {
   "cell_type": "markdown",
   "metadata": {},
   "source": [
    "Environments contain **_brains_** which are responsible for deciding the actions of their associated agents. Here we check for the first brain available, and set it as the default brain we will be controlling from Python."
   ]
  },
  {
   "cell_type": "code",
   "execution_count": 3,
   "metadata": {},
   "outputs": [],
   "source": [
    "# Get the default brain\n",
    "brain_name = env.brain_names[0]\n",
    "brain = env.brains[brain_name]"
   ]
  },
  {
   "cell_type": "markdown",
   "metadata": {},
   "source": [
    "### 2. Examine the State and Action Spaces\n",
    "\n",
    "In this environment, two agents control rackets to bounce a ball over a net. A reward of +0.1 is given to an agent if an agent hits the ball over the net. On the other hand, an agent receives a negative reward of -0.01 if an agent lets a ball hit the ground or hits the ball out of bounds.  Thus, the goal of each agent is to keep the ball in play to maximize the total rewards.\n",
    "\n",
    "The observation space consists of 8 variables corresponding to the position and velocity of the ball and racket. Two continuous actions are available, corresponding to movement toward (or away from) the net, and jumping. \n",
    "\n",
    "Run the code cell below to print some information about the environment."
   ]
  },
  {
   "cell_type": "code",
   "execution_count": 4,
   "metadata": {},
   "outputs": [
    {
     "name": "stdout",
     "output_type": "stream",
     "text": [
      "Number of agents: 2\n",
      "Size of each action: 2\n",
      "There are 2 agents. Each observes a state with length: 24\n",
      "The state for the first agent looks like: [ 0.          0.          0.          0.          0.          0.\n",
      "  0.          0.          0.          0.          0.          0.\n",
      "  0.          0.          0.          0.         -6.29742813 -1.5\n",
      " -0.          0.          7.17024279  6.         -0.          0.        ]\n"
     ]
    }
   ],
   "source": [
    "# Reset the environment\n",
    "env_info = env.reset(train_mode=True)[brain_name]\n",
    "\n",
    "# Number of agents\n",
    "num_agents = len(env_info.agents)\n",
    "print('Number of agents:', num_agents)\n",
    "\n",
    "# Size of each action\n",
    "action_size = brain.vector_action_space_size\n",
    "print('Size of each action:', action_size)\n",
    "\n",
    "# Examine the state space\n",
    "states = env_info.vector_observations\n",
    "state_size = states.shape[1]\n",
    "print('There are {} agents. Each observes a state with length: {}'.format(states.shape[0], state_size))\n",
    "print('The state for the first agent looks like:', states[0])"
   ]
  },
  {
   "cell_type": "markdown",
   "metadata": {},
   "source": [
    "### 3. Take Random Actions in the Environment\n",
    "\n",
    "In the next code cell, you will learn how to use the Python API to control the agents and receive feedback from the environment.\n",
    "\n",
    "Once this cell is executed, you will watch the agents' performance, if they randomly choose actions at each time step.  A window should pop up that allows you to observe the agents.\n",
    "\n",
    "In the next section, a modified version of this code will be given such that the agents are able to utilize their experiences to gradually select better actions when interacting with the environment!"
   ]
  },
  {
   "cell_type": "code",
   "execution_count": 5,
   "metadata": {},
   "outputs": [],
   "source": [
    "#for i in range(1, 6):                                      # play game for 5 episodes\n",
    "#    env_info = env.reset(train_mode=False)[brain_name]     # reset the environment\n",
    "#    states = env_info.vector_observations                  # get the current state (for each agent)\n",
    "#    scores = np.zeros(num_agents)                          # initialize the score (for each agent)\n",
    "#    while True:\n",
    "#        actions = np.random.randn(num_agents, action_size) # select an action (for each agent)\n",
    "#        actions = np.clip(actions, -1, 1)                  # all actions between -1 and 1\n",
    "#        env_info = env.step(actions)[brain_name]           # send all actions to tne environment\n",
    "#        next_states = env_info.vector_observations         # get next state (for each agent)\n",
    "#        rewards = env_info.rewards                         # get reward (for each agent)\n",
    "#        dones = env_info.local_done                        # see if episode finished\n",
    "#        scores += env_info.rewards                         # update the score (for each agent)\n",
    "#        states = next_states                               # roll over states to next time step\n",
    "#        if np.any(dones):                                  # exit loop if episode finished\n",
    "#            break\n",
    "#    print('Score (max over agents) from episode {}: {}'.format(i, np.max(scores)))"
   ]
  },
  {
   "cell_type": "markdown",
   "metadata": {},
   "source": [
    "When finished, you can close the environment."
   ]
  },
  {
   "cell_type": "code",
   "execution_count": 6,
   "metadata": {},
   "outputs": [],
   "source": [
    "#env.close()"
   ]
  },
  {
   "cell_type": "markdown",
   "metadata": {},
   "source": [
    "### 4. It's Your Turn!\n",
    "\n",
    "Now it's your turn to train your own agent to solve the environment!  When training the environment, set `train_mode=True`, so that the line for resetting the environment looks like the following:\n",
    "```python\n",
    "env_info = env.reset(train_mode=True)[brain_name]\n",
    "```"
   ]
  },
  {
   "cell_type": "code",
   "execution_count": 7,
   "metadata": {},
   "outputs": [],
   "source": [
    "# Load the packages\n",
    "import matplotlib.pyplot as plt\n",
    "%matplotlib inline\n",
    "import random\n",
    "import time\n",
    "from collections import deque\n",
    "import torch\n",
    "from maddpg import MADDPG_Agent"
   ]
  },
  {
   "cell_type": "code",
   "execution_count": 8,
   "metadata": {},
   "outputs": [
    {
     "name": "stdout",
     "output_type": "stream",
     "text": [
      "Episode 10: \tAvg score (over last 100 EPs): 0.000\tElapsed time: 0.05\n",
      "Episode 20: \tAvg score (over last 100 EPs): 0.000\tElapsed time: 0.40\n",
      "Episode 30: \tAvg score (over last 100 EPs): 0.000\tElapsed time: 0.53\n",
      "Episode 40: \tAvg score (over last 100 EPs): 0.000\tElapsed time: 0.37\n",
      "Episode 50: \tAvg score (over last 100 EPs): 0.000\tElapsed time: 0.39\n",
      "Episode 60: \tAvg score (over last 100 EPs): 0.000\tElapsed time: 0.40\n",
      "Episode 70: \tAvg score (over last 100 EPs): 0.000\tElapsed time: 0.41\n",
      "Episode 80: \tAvg score (over last 100 EPs): 0.000\tElapsed time: 0.40\n",
      "Episode 90: \tAvg score (over last 100 EPs): 0.000\tElapsed time: 0.41\n",
      "Episode 100: \tAvg score (over last 100 EPs): 0.000\tElapsed time: 0.41\n",
      "Episode 110: \tAvg score (over last 100 EPs): 0.000\tElapsed time: 0.42\n",
      "Episode 120: \tAvg score (over last 100 EPs): 0.001\tElapsed time: 0.43\n",
      "Episode 130: \tAvg score (over last 100 EPs): 0.002\tElapsed time: 0.49\n",
      "Episode 140: \tAvg score (over last 100 EPs): 0.002\tElapsed time: 0.46\n",
      "Episode 150: \tAvg score (over last 100 EPs): 0.003\tElapsed time: 0.46\n",
      "Episode 160: \tAvg score (over last 100 EPs): 0.003\tElapsed time: 0.47\n",
      "Episode 170: \tAvg score (over last 100 EPs): 0.004\tElapsed time: 0.47\n",
      "Episode 180: \tAvg score (over last 100 EPs): 0.006\tElapsed time: 0.47\n",
      "Episode 190: \tAvg score (over last 100 EPs): 0.012\tElapsed time: 1.04\n",
      "Episode 200: \tAvg score (over last 100 EPs): 0.015\tElapsed time: 1.03\n",
      "Episode 210: \tAvg score (over last 100 EPs): 0.019\tElapsed time: 1.01\n",
      "Episode 220: \tAvg score (over last 100 EPs): 0.023\tElapsed time: 0.49\n",
      "Episode 230: \tAvg score (over last 100 EPs): 0.027\tElapsed time: 1.03\n",
      "Episode 240: \tAvg score (over last 100 EPs): 0.033\tElapsed time: 1.07\n",
      "Episode 250: \tAvg score (over last 100 EPs): 0.042\tElapsed time: 1.04\n",
      "Episode 260: \tAvg score (over last 100 EPs): 0.048\tElapsed time: 0.52\n",
      "Episode 270: \tAvg score (over last 100 EPs): 0.053\tElapsed time: 0.47\n",
      "Episode 280: \tAvg score (over last 100 EPs): 0.061\tElapsed time: 1.02\n",
      "Episode 290: \tAvg score (over last 100 EPs): 0.059\tElapsed time: 0.43\n",
      "Episode 300: \tAvg score (over last 100 EPs): 0.062\tElapsed time: 1.00\n",
      "Episode 310: \tAvg score (over last 100 EPs): 0.068\tElapsed time: 1.02\n",
      "Episode 320: \tAvg score (over last 100 EPs): 0.073\tElapsed time: 1.02\n",
      "Episode 330: \tAvg score (over last 100 EPs): 0.075\tElapsed time: 1.00\n",
      "Episode 340: \tAvg score (over last 100 EPs): 0.080\tElapsed time: 0.87\n",
      "Episode 350: \tAvg score (over last 100 EPs): 0.081\tElapsed time: 1.78\n",
      "Episode 360: \tAvg score (over last 100 EPs): 0.086\tElapsed time: 0.55\n",
      "Episode 370: \tAvg score (over last 100 EPs): 0.087\tElapsed time: 2.43\n",
      "Episode 380: \tAvg score (over last 100 EPs): 0.085\tElapsed time: 1.78\n",
      "Episode 390: \tAvg score (over last 100 EPs): 0.092\tElapsed time: 1.00\n",
      "Episode 400: \tAvg score (over last 100 EPs): 0.096\tElapsed time: 1.02\n",
      "Episode 410: \tAvg score (over last 100 EPs): 0.098\tElapsed time: 0.99\n",
      "Episode 420: \tAvg score (over last 100 EPs): 0.096\tElapsed time: 1.07\n",
      "Episode 430: \tAvg score (over last 100 EPs): 0.099\tElapsed time: 1.03\n",
      "Episode 440: \tAvg score (over last 100 EPs): 0.098\tElapsed time: 0.57\n",
      "Episode 450: \tAvg score (over last 100 EPs): 0.097\tElapsed time: 1.13\n",
      "Episode 460: \tAvg score (over last 100 EPs): 0.098\tElapsed time: 1.99\n",
      "Episode 470: \tAvg score (over last 100 EPs): 0.100\tElapsed time: 0.97\n",
      "Episode 480: \tAvg score (over last 100 EPs): 0.100\tElapsed time: 2.35\n",
      "Episode 490: \tAvg score (over last 100 EPs): 0.101\tElapsed time: 0.98\n",
      "Episode 500: \tAvg score (over last 100 EPs): 0.098\tElapsed time: 1.01\n",
      "Episode 510: \tAvg score (over last 100 EPs): 0.094\tElapsed time: 1.07\n",
      "Episode 520: \tAvg score (over last 100 EPs): 0.091\tElapsed time: 0.53\n",
      "Episode 530: \tAvg score (over last 100 EPs): 0.092\tElapsed time: 1.06\n",
      "Episode 540: \tAvg score (over last 100 EPs): 0.096\tElapsed time: 3.26\n",
      "Episode 550: \tAvg score (over last 100 EPs): 0.099\tElapsed time: 1.05\n",
      "Episode 560: \tAvg score (over last 100 EPs): 0.101\tElapsed time: 1.03\n",
      "Episode 570: \tAvg score (over last 100 EPs): 0.106\tElapsed time: 1.80\n",
      "Episode 580: \tAvg score (over last 100 EPs): 0.106\tElapsed time: 0.50\n",
      "Episode 590: \tAvg score (over last 100 EPs): 0.104\tElapsed time: 0.77\n",
      "Episode 600: \tAvg score (over last 100 EPs): 0.109\tElapsed time: 1.81\n",
      "Episode 610: \tAvg score (over last 100 EPs): 0.126\tElapsed time: 5.86\n",
      "Episode 620: \tAvg score (over last 100 EPs): 0.135\tElapsed time: 1.06\n",
      "Episode 630: \tAvg score (over last 100 EPs): 0.135\tElapsed time: 0.50\n",
      "Episode 640: \tAvg score (over last 100 EPs): 0.130\tElapsed time: 1.09\n",
      "Episode 650: \tAvg score (over last 100 EPs): 0.131\tElapsed time: 1.06\n",
      "Episode 660: \tAvg score (over last 100 EPs): 0.127\tElapsed time: 1.16\n",
      "Episode 670: \tAvg score (over last 100 EPs): 0.124\tElapsed time: 1.13\n",
      "Episode 680: \tAvg score (over last 100 EPs): 0.129\tElapsed time: 1.09\n",
      "Episode 690: \tAvg score (over last 100 EPs): 0.130\tElapsed time: 3.17\n",
      "Episode 700: \tAvg score (over last 100 EPs): 0.127\tElapsed time: 1.79\n",
      "Episode 710: \tAvg score (over last 100 EPs): 0.119\tElapsed time: 1.10\n",
      "Episode 720: \tAvg score (over last 100 EPs): 0.120\tElapsed time: 1.95\n",
      "Episode 730: \tAvg score (over last 100 EPs): 0.122\tElapsed time: 3.04\n",
      "Episode 740: \tAvg score (over last 100 EPs): 0.128\tElapsed time: 0.49\n",
      "Episode 750: \tAvg score (over last 100 EPs): 0.129\tElapsed time: 4.49\n",
      "Episode 760: \tAvg score (over last 100 EPs): 0.133\tElapsed time: 4.44\n",
      "Episode 770: \tAvg score (over last 100 EPs): 0.135\tElapsed time: 1.18\n",
      "Episode 780: \tAvg score (over last 100 EPs): 0.136\tElapsed time: 1.83\n",
      "Episode 790: \tAvg score (over last 100 EPs): 0.139\tElapsed time: 1.79\n",
      "Episode 800: \tAvg score (over last 100 EPs): 0.147\tElapsed time: 1.34\n",
      "Episode 810: \tAvg score (over last 100 EPs): 0.142\tElapsed time: 2.50\n",
      "Episode 820: \tAvg score (over last 100 EPs): 0.140\tElapsed time: 2.54\n",
      "Episode 830: \tAvg score (over last 100 EPs): 0.140\tElapsed time: 0.51\n",
      "Episode 840: \tAvg score (over last 100 EPs): 0.131\tElapsed time: 2.05\n",
      "Episode 850: \tAvg score (over last 100 EPs): 0.129\tElapsed time: 1.82\n",
      "Episode 860: \tAvg score (over last 100 EPs): 0.125\tElapsed time: 0.45\n",
      "Episode 870: \tAvg score (over last 100 EPs): 0.121\tElapsed time: 1.12\n",
      "Episode 880: \tAvg score (over last 100 EPs): 0.120\tElapsed time: 1.09\n",
      "Episode 890: \tAvg score (over last 100 EPs): 0.112\tElapsed time: 1.94\n",
      "Episode 900: \tAvg score (over last 100 EPs): 0.111\tElapsed time: 0.51\n",
      "Episode 910: \tAvg score (over last 100 EPs): 0.115\tElapsed time: 1.90\n",
      "Episode 920: \tAvg score (over last 100 EPs): 0.126\tElapsed time: 8.10\n",
      "Episode 930: \tAvg score (over last 100 EPs): 0.154\tElapsed time: 1.12\n",
      "Episode 940: \tAvg score (over last 100 EPs): 0.271\tElapsed time: 13.99\n",
      "Episode 950: \tAvg score (over last 100 EPs): 0.360\tElapsed time: 21.31\n",
      "Episode 960: \tAvg score (over last 100 EPs): 0.493\tElapsed time: 33.56\n",
      "Environment solved in 861 EPs!\n",
      "Avg score (over last 100 EPs): 0.5179000077582896\n"
     ]
    }
   ],
   "source": [
    "def train_model(n_episodes = 3000, threshold=0.5, print_every=1):\n",
    "    \"\"\"Trains the model and returns the max scores per episode, the cummulative avg scores per 100 episode, and the trained model.\n",
    "\n",
    "    Params:\n",
    "        n_episodes (int): number of episodes in the training process. Defaults to 1000.\n",
    "        threshold (float): score required to solve the environment\n",
    "        print_every (int): frequency per which to print the performance\n",
    "    \"\"\"\n",
    "    # MADDPG agent\n",
    "    agent = MADDPG_Agent(state_size, action_size, num_agents, 2)\n",
    "\n",
    "    scores_tot = [] # store the max scores per episode\n",
    "    scores_deque = deque(maxlen=100) # store scores in last 100 episodes\n",
    "    avg_scores_deque = [] # store cummulative avg scores over last 100 episodes\n",
    "\n",
    "\n",
    "    # It's safe to keep track of elapsed times per print_every\n",
    "    start_time = time.time()\n",
    "\n",
    "    for i_episode in range(n_episodes):\n",
    "\n",
    "        start_time = time.time()                               # reset the start time\n",
    "        env_info = env.reset(train_mode=True)[brain_name]      # reset the environment\n",
    "        states = env_info.vector_observations                  # get the current state (for each agent)\n",
    "        scores = np.zeros(num_agents)                          # initialize the score (for each agent)\n",
    "        agent.reset()                                         # reset the noises\n",
    "\n",
    "        i_episode += 1                                       # increment the episode number\n",
    "\n",
    "        while True:\n",
    "            actions = agent.act_all(states)                        # select actions\n",
    "            env_info = env.step(actions)[brain_name]           # send actions to the environment\n",
    "            next_states = env_info.vector_observations         # get next state (for each agent)\n",
    "            rewards = env_info.rewards                         # get rewards\n",
    "            dones = env_info.local_done                        # see if episode has ended\n",
    "            scores += rewards                                  # update the score (for each agent)\n",
    "\n",
    "            agent.step(states, actions, rewards, next_states, dones) # store a tuple of experiences and update the agents\n",
    "            states = next_states                               # proceed to the next states\n",
    "\n",
    "            if np.any(dones):                                  # exit loop if the episode has ended\n",
    "                break\n",
    "\n",
    "\n",
    "        # Compute the max score per episode\n",
    "        max_score = np.max(scores)\n",
    "        # Store into each bucket\n",
    "        scores_tot.append(max_score)\n",
    "        scores_deque.append(max_score)\n",
    "        # Compute the average of the cummulative scores in the recent 100 episodes and store into the bucket\n",
    "        avg_score_deque = np.mean(scores_deque)\n",
    "        avg_scores_deque.append(avg_score_deque)\n",
    "\n",
    "        # Display the performance\n",
    "        if i_episode % print_every ==0:\n",
    "            elapsed_time = time.time() - start_time # stop to calculate the elapsed time\n",
    "            print('\\rEpisode {}: \\tAvg score (over last 100 EPs): {:.3f}\\tElapsed time: {:.2f}'.format(i_episode, avg_score_deque, elapsed_time))\n",
    "            start_time = time.time()\n",
    "\n",
    "        # See if the environment has been solved\n",
    "        if avg_score_deque > threshold:\n",
    "            print(\"Environment solved in {} EPs!\".format(i_episode-100))\n",
    "            print(\"Avg score (over last 100 EPs): {}\".format(avg_score_deque))\n",
    "\n",
    "            break\n",
    "\n",
    "    # Save the trained weights of the agents\n",
    "    torch.save(agent.maddpg_agents[0].actor_local.state_dict(), 'check_point_agentl_actor.pth')\n",
    "    torch.save(agent.maddpg_agents[0].critic_local.state_dict(), 'check_point_agentl_critic.pth')\n",
    "    torch.save(agent.maddpg_agents[1].actor_local.state_dict(), 'check_point_agentr_actor.pth')\n",
    "    torch.save(agent.maddpg_agents[1].critic_local.state_dict(), 'check_point_agentr_critic.pth')\n",
    "\n",
    "    return scores_tot, avg_scores_deque, agent\n",
    "\n",
    "# Train the model, collect the scores\n",
    "scores_tot, avg_scores_deque, agent = train_model(n_episodes = 5000, threshold=0.5, print_every=10)\n"
   ]
  },
  {
   "cell_type": "code",
   "execution_count": 9,
   "metadata": {},
   "outputs": [],
   "source": [
    "# Make sure that you close the environment!\n",
    "env.close()"
   ]
  },
  {
   "cell_type": "markdown",
   "metadata": {},
   "source": [
    "### 5. Results\n",
    "\n",
    "Below we plot the results in the previous section. The first figure shows the history of maximum scores between 2 agents per episode. In the second figure, we plot the cummulative average score over last 100 episodes. Despite the oscillations of scores during the training, the score gradually increased and reached the threshold to solve the environment."
   ]
  },
  {
   "cell_type": "code",
   "execution_count": 9,
   "metadata": {},
   "outputs": [
    {
     "data": {
      "image/png": "[encoded data removed]",
      "text/plain": [
       "<Figure size 432x288 with 1 Axes>"
      ]
     },
     "metadata": {
      "needs_background": "light"
     },
     "output_type": "display_data"
    }
   ],
   "source": [
    "# Plot the max scores per episode\n",
    "fig = plt.figure()\n",
    "ax = fig.add_subplot(111)\n",
    "plt.plot(np.arange(1, len(scores_tot)+1), scores_tot)\n",
    "plt.ylabel(\"Max scores per episode\")\n",
    "plt.xlabel(\"# of episodes\")\n",
    "plt.show()"
   ]
  },
  {
   "cell_type": "code",
   "execution_count": 11,
   "metadata": {},
   "outputs": [
    {
     "data": {
      "image/png": "[encoded data removed]",
      "text/plain": [
       "<Figure size 432x288 with 1 Axes>"
      ]
     },
     "metadata": {
      "needs_background": "light"
     },
     "output_type": "display_data"
    }
   ],
   "source": [
    "# Plot the cummulative average scores over last 100 episodes wrt number of episodes\n",
    "fig = plt.figure()\n",
    "ax = fig.add_subplot(111)\n",
    "plt.plot(np.arange(1, len(avg_scores_deque)+1), avg_scores_deque)\n",
    "plt.ylabel(\"Average scores over last 100 episodes\")\n",
    "plt.xlabel(\"# of episodes\")\n",
    "plt.show()"
   ]
  },
  {
   "cell_type": "code",
   "execution_count": null,
   "metadata": {},
   "outputs": [],
   "source": []
  }
 ],
 "metadata": {
  "kernelspec": {
   "display_name": "Python 3",
   "language": "python",
   "name": "python3"
  },
  "language_info": {
   "codemirror_mode": {
    "name": "ipython",
    "version": 3
   },
   "file_extension": ".py",
   "mimetype": "text/x-python",
   "name": "python",
   "nbconvert_exporter": "python",
   "pygments_lexer": "ipython3",
   "version": "3.6.13"
  }
 },
 "nbformat": 4,
 "nbformat_minor": 2
}
